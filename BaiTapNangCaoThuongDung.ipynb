{
 "cells": [
  {
   "cell_type": "code",
   "execution_count": 3,
   "metadata": {},
   "outputs": [
    {
     "data": {
      "text/plain": [
       "[1, 9, 25]"
      ]
     },
     "execution_count": 3,
     "metadata": {},
     "output_type": "execute_result"
    }
   ],
   "source": [
    "##Bài 1\n",
    "l = [1,2,3,5]\n",
    "newl = [i**2 for i in l if i % 2 ==1]\n",
    "newl"
   ]
  },
  {
   "cell_type": "code",
   "execution_count": 5,
   "metadata": {},
   "outputs": [
    {
     "data": {
      "text/plain": [
       "[15, 45]"
      ]
     },
     "execution_count": 5,
     "metadata": {},
     "output_type": "execute_result"
    }
   ],
   "source": [
    "##Bài 2\n",
    "l = [1, 2, 5, 15, 20, 45]\n",
    "newl = [i for i in l if i % 5 == 0 and i % 3 ==0]\n",
    "newl\n"
   ]
  },
  {
   "cell_type": "code",
   "execution_count": 6,
   "metadata": {},
   "outputs": [
    {
     "data": {
      "text/plain": [
       "[2, 4, 6, 10]"
      ]
     },
     "execution_count": 6,
     "metadata": {},
     "output_type": "execute_result"
    }
   ],
   "source": [
    "## Bài 3\n",
    "l = [1, 2, 3, 5]\n",
    "newl = [i+i for i in l]\n",
    "newl"
   ]
  },
  {
   "cell_type": "code",
   "execution_count": 9,
   "metadata": {},
   "outputs": [
    {
     "data": {
      "text/plain": [
       "[1, 4, 16, 9, 25]"
      ]
     },
     "execution_count": 9,
     "metadata": {},
     "output_type": "execute_result"
    }
   ],
   "source": [
    "## Bài 4\n",
    "import math\n",
    "l = [1, 2, 3, 4, 16, 9, 25, 5]\n",
    "newl = [i for i in l if int(math.sqrt(i)) - math.sqrt(i) == 0]\n",
    "newl"
   ]
  },
  {
   "cell_type": "code",
   "execution_count": 10,
   "metadata": {},
   "outputs": [
    {
     "name": "stdout",
     "output_type": "stream",
     "text": [
      "25 6\n"
     ]
    }
   ],
   "source": [
    "# Bài 5 Tìm phần tử lớn nhất và chỉ số của nó\n",
    "def getMaxIdxVal(List):\n",
    " \treturn max(List), List.index(max(List))\n",
    "l = [1, 2, 3, 4, 16, 9, 25, 5]\n",
    "a, b = getMaxIdxVal(l)\n",
    "print(a,b)"
   ]
  },
  {
   "cell_type": "code",
   "execution_count": 12,
   "metadata": {},
   "outputs": [
    {
     "data": {
      "text/plain": [
       "([1, 4, 5], [5, 6, 8, 6], [6, 8, 6, 30, 4], [30, 6, 8, 6, 5, 3, 5])"
      ]
     },
     "execution_count": 12,
     "metadata": {},
     "output_type": "execute_result"
    }
   ],
   "source": [
    "## Bài 6 Cắt list\n",
    "l = [1,4,5,3,5,6,8,6,30,4]\n",
    "l1 = l[0:3]\n",
    "l2 = l[4:8]\n",
    "l3 = l[5:10]\n",
    "l4 = l[8:1:-1]\n",
    "l1,l2,l3,l4\n"
   ]
  },
  {
   "cell_type": "code",
   "execution_count": 14,
   "metadata": {},
   "outputs": [
    {
     "data": {
      "text/plain": [
       "[4, 30, 6, 8, 6, 5, 3, 5, 4, 1]"
      ]
     },
     "execution_count": 14,
     "metadata": {},
     "output_type": "execute_result"
    }
   ],
   "source": [
    "## Bài 7 Đảo ngược list\n",
    "l = [1,4,5,3,5,6,8,6,30,4]\n",
    "revert = l[::-1]\n",
    "revert\n"
   ]
  },
  {
   "cell_type": "code",
   "execution_count": 20,
   "metadata": {},
   "outputs": [
    {
     "data": {
      "text/plain": [
       "['TranTong', 'TranLoc', 'NguyenVan']"
      ]
     },
     "execution_count": 20,
     "metadata": {},
     "output_type": "execute_result"
    }
   ],
   "source": [
    "# Hàm Map\n",
    "def getLen(n):\n",
    "    return len(n)\n",
    "x = map(getLen, ('Tong', 'Loc', 'Van'))\n",
    "list(x)\n",
    "def joinName(a, b):\n",
    "    return a + b\n",
    "y = map(joinName, ('Tran', 'Tran', 'Nguyen'),('Tong', 'Loc', 'Van'))\n",
    "list(y)"
   ]
  },
  {
   "cell_type": "code",
   "execution_count": 28,
   "metadata": {},
   "outputs": [
    {
     "name": "stdout",
     "output_type": "stream",
     "text": [
      "22\n",
      "33\n"
     ]
    }
   ],
   "source": [
    "# Hàm Lambda\n",
    "x = lambda x: x + 5\n",
    "x(4)\n",
    "\n",
    "y = lambda a, b: a * b\n",
    "y(6,6)\n",
    "\n",
    "z = lambda a, b, c: a + b + c\n",
    "z(6,6,6)\n",
    "\n",
    "def myfunc(n):\n",
    "    return lambda a: a - n\n",
    "mydoubler = myfunc(2)\n",
    "mydoubler(4)\n",
    "\n",
    "def myfunc1(n):\n",
    "    return lambda a : a * n\n",
    "\n",
    "mydoubler1 = myfunc1(2)\n",
    "mytripler1 = myfunc1(3)\n",
    "\n",
    "print(mydoubler1(11))\n",
    "print(mytripler1(11))"
   ]
  },
  {
   "cell_type": "code",
   "execution_count": 29,
   "metadata": {},
   "outputs": [
    {
     "name": "stdout",
     "output_type": "stream",
     "text": [
      "18\n",
      "24\n",
      "32\n"
     ]
    }
   ],
   "source": [
    "# Filter\n",
    "ages = [5, 12, 17, 18, 24, 32]\n",
    "\n",
    "def myFunc(x):\n",
    "    if x < 18:\n",
    "        return False\n",
    "    else:\n",
    "        return True\n",
    "\n",
    "adults = filter(myFunc, ages)\n",
    "\n",
    "for x in adults:\n",
    "    print(x)"
   ]
  }
 ],
 "metadata": {
  "kernelspec": {
   "display_name": "Python 3",
   "language": "python",
   "name": "python3"
  },
  "language_info": {
   "codemirror_mode": {
    "name": "ipython",
    "version": 3
   },
   "file_extension": ".py",
   "mimetype": "text/x-python",
   "name": "python",
   "nbconvert_exporter": "python",
   "pygments_lexer": "ipython3",
   "version": "3.7.6"
  }
 },
 "nbformat": 4,
 "nbformat_minor": 4
}
